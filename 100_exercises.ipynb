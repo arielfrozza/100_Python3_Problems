{
 "cells": [
  {
   "cell_type": "markdown",
   "id": "ba4ce1a6",
   "metadata": {},
   "source": [
    "### Ex. 5 Complete the script so that it prints out the second item of the list."
   ]
  },
  {
   "cell_type": "code",
   "execution_count": 2,
   "id": "34970c4f",
   "metadata": {},
   "outputs": [],
   "source": [
    "letters = [\"a\", \"b\", \"c\", \"d\", \"e\", \"f\", \"g\", \"h\", \"i\", \"j\"]"
   ]
  },
  {
   "cell_type": "code",
   "execution_count": 4,
   "id": "0f2a4f3d",
   "metadata": {},
   "outputs": [
    {
     "name": "stdout",
     "output_type": "stream",
     "text": [
      "b\n"
     ]
    }
   ],
   "source": [
    "print(letters[1])"
   ]
  },
  {
   "cell_type": "markdown",
   "id": "d52878ea",
   "metadata": {},
   "source": [
    "### Ex. 6 Please complete the script so that it prints out a list slice containing items d , e , and f."
   ]
  },
  {
   "cell_type": "code",
   "execution_count": 6,
   "id": "bd349fb5",
   "metadata": {},
   "outputs": [],
   "source": [
    "letters = [\"a\", \"b\", \"c\", \"d\", \"e\", \"f\", \"g\", \"h\", \"i\", \"j\"]"
   ]
  },
  {
   "cell_type": "code",
   "execution_count": 10,
   "id": "0f73a445",
   "metadata": {},
   "outputs": [
    {
     "name": "stdout",
     "output_type": "stream",
     "text": [
      "['d', 'e', 'f']\n"
     ]
    }
   ],
   "source": [
    "print(letters[3:6])"
   ]
  },
  {
   "cell_type": "markdown",
   "id": "d34bc603",
   "metadata": {},
   "source": [
    "### Ex. 7  Please complete the script so that it prints out the first three items of list letters."
   ]
  },
  {
   "cell_type": "code",
   "execution_count": 13,
   "id": "f309134f",
   "metadata": {},
   "outputs": [
    {
     "name": "stdout",
     "output_type": "stream",
     "text": [
      "['a', 'b', 'c']\n"
     ]
    }
   ],
   "source": [
    "letters = [\"a\", \"b\", \"c\", \"d\", \"e\", \"f\", \"g\", \"h\", \"i\", \"j\"]\n",
    "print(letters[:3])"
   ]
  },
  {
   "cell_type": "markdown",
   "id": "b46bcbe0",
   "metadata": {},
   "source": [
    "### Ex. 8 Complete the script so that it prints out the letter i  using negative indexing."
   ]
  },
  {
   "cell_type": "code",
   "execution_count": 17,
   "id": "979551ef",
   "metadata": {},
   "outputs": [
    {
     "name": "stdout",
     "output_type": "stream",
     "text": [
      "i\n"
     ]
    }
   ],
   "source": [
    "letters = [\"a\", \"b\", \"c\", \"d\", \"e\", \"f\", \"g\", \"h\", \"i\", \"j\"]\n",
    "print(letters[-2])"
   ]
  },
  {
   "cell_type": "markdown",
   "id": "7ada3bb1",
   "metadata": {},
   "source": [
    "### Ex. 9 Complete the script so that it prints out a list slice containing the last three items of the list letters."
   ]
  },
  {
   "cell_type": "code",
   "execution_count": 20,
   "id": "aee94f1c",
   "metadata": {},
   "outputs": [
    {
     "name": "stdout",
     "output_type": "stream",
     "text": [
      "['h', 'i', 'j']\n"
     ]
    }
   ],
   "source": [
    "letters = [\"a\", \"b\", \"c\", \"d\", \"e\", \"f\", \"g\", \"h\", \"i\", \"j\"]\n",
    "print(letters[-3:])"
   ]
  },
  {
   "cell_type": "markdown",
   "id": "e6d15b92",
   "metadata": {},
   "source": [
    "### Ex. 10 Complete the script so that it prints out a list slice containing letters a, c, e, g, and i. "
   ]
  },
  {
   "cell_type": "code",
   "execution_count": 26,
   "id": "da419c04",
   "metadata": {},
   "outputs": [
    {
     "name": "stdout",
     "output_type": "stream",
     "text": [
      "['a', 'c', 'e', 'g', 'i']\n"
     ]
    }
   ],
   "source": [
    "letters = [\"a\", \"b\", \"c\", \"d\", \"e\", \"f\", \"g\", \"h\", \"i\", \"j\"]\n",
    "print(letters[0::2])  #The complete syntax of list slicing is [start:end:step]\n"
   ]
  },
  {
   "cell_type": "markdown",
   "id": "5ea9905c",
   "metadata": {},
   "source": [
    "### Ex. 11. Ranges"
   ]
  },
  {
   "cell_type": "code",
   "execution_count": 42,
   "id": "df25fb34",
   "metadata": {},
   "outputs": [
    {
     "name": "stdout",
     "output_type": "stream",
     "text": [
      "[1, 2, 3, 4, 5, 6, 7, 8, 9, 10, 11, 12, 13, 14, 15, 16, 17, 18, 19, 20]\n"
     ]
    }
   ],
   "source": [
    "#help(range)\n",
    "#range(start, stop[, step])\n",
    "my_range = range(1, 21)\n",
    "print(list(my_range))"
   ]
  },
  {
   "cell_type": "markdown",
   "id": "53ddf244",
   "metadata": {},
   "source": [
    "### Ex. 12. Ranges"
   ]
  },
  {
   "cell_type": "code",
   "execution_count": 48,
   "id": "5ab1ab54",
   "metadata": {},
   "outputs": [
    {
     "name": "stdout",
     "output_type": "stream",
     "text": [
      "[10, 20, 30, 40, 50, 60, 70, 80, 90, 100, 110, 120, 130, 140, 150, 160, 170, 180, 190, 200]\n"
     ]
    }
   ],
   "source": [
    "my_range = range(1, 21)\n",
    "print([10 * x for x in my_range]) # list compreention"
   ]
  },
  {
   "cell_type": "markdown",
   "id": "1f95bbbd",
   "metadata": {},
   "source": [
    "### Ex. 13. Ranges"
   ]
  },
  {
   "cell_type": "code",
   "execution_count": 53,
   "id": "c464ebb4",
   "metadata": {},
   "outputs": [
    {
     "name": "stdout",
     "output_type": "stream",
     "text": [
      "['1', '2', '3', '4', '5', '6', '7', '8', '9', '10', '11', '12', '13', '14', '15', '16', '17', '18', '19', '20']\n"
     ]
    }
   ],
   "source": [
    "my_range = range(1, 21)\n",
    "# print([str(x) for x in my_range]) #or even better:\n",
    "print(list(map(str, my_range))) # map applies a funtion to an iterable list"
   ]
  },
  {
   "cell_type": "markdown",
   "id": "ce76ad89",
   "metadata": {},
   "source": [
    "### Ex. 14. Complete the script so that it removes duplicate items from the list a."
   ]
  },
  {
   "cell_type": "code",
   "execution_count": 56,
   "id": "4c7607ad",
   "metadata": {},
   "outputs": [],
   "source": [
    "a = [\"1\", 1, \"1\", 2]\n"
   ]
  },
  {
   "cell_type": "code",
   "execution_count": 64,
   "id": "9883bc78",
   "metadata": {},
   "outputs": [
    {
     "name": "stdout",
     "output_type": "stream",
     "text": [
      "[1, 2, '1']\n"
     ]
    }
   ],
   "source": [
    "#help(set)\n",
    "print(list(set(a)))\n"
   ]
  },
  {
   "cell_type": "markdown",
   "id": "7ac6206c",
   "metadata": {},
   "source": [
    "### Ex. 15. Create a dictionary that contains the keys a  and b  and their respective values 1  and 2"
   ]
  },
  {
   "cell_type": "code",
   "execution_count": 68,
   "id": "06ff13bd",
   "metadata": {},
   "outputs": [
    {
     "name": "stdout",
     "output_type": "stream",
     "text": [
      "{'a': 1, 'b': 2}\n"
     ]
    }
   ],
   "source": [
    "my_dict = {\"a\": 1, \"b\": 2} #or\n",
    "my_dict = dict(a=1, b=2)\n",
    "print(my_dict)"
   ]
  },
  {
   "cell_type": "markdown",
   "id": "8c5cc02e",
   "metadata": {},
   "source": [
    "### Ex. 16. Accessing Dictionary Items"
   ]
  },
  {
   "cell_type": "code",
   "execution_count": 71,
   "id": "b0979e4d",
   "metadata": {},
   "outputs": [
    {
     "name": "stdout",
     "output_type": "stream",
     "text": [
      "2\n"
     ]
    }
   ],
   "source": [
    "d = {\"a\": 1, \"b\": 2}\n",
    "print(d[\"b\"])"
   ]
  },
  {
   "cell_type": "markdown",
   "id": "f30c9b29",
   "metadata": {},
   "source": [
    "### Ex. 17. Calculate the sum of the values of keys a  and b"
   ]
  },
  {
   "cell_type": "code",
   "execution_count": 74,
   "id": "8865491a",
   "metadata": {},
   "outputs": [
    {
     "name": "stdout",
     "output_type": "stream",
     "text": [
      "3\n"
     ]
    }
   ],
   "source": [
    "d = {\"a\": 1, \"b\": 2, \"c\": 3}\n",
    "print(d[\"a\"] + d[\"b\"])"
   ]
  },
  {
   "cell_type": "markdown",
   "id": "51bab849",
   "metadata": {},
   "source": [
    "### Ex. 18. Dictionary"
   ]
  },
  {
   "cell_type": "code",
   "execution_count": 82,
   "id": "56b5113d",
   "metadata": {},
   "outputs": [
    {
     "name": "stdout",
     "output_type": "stream",
     "text": [
      "Smith\n"
     ]
    }
   ],
   "source": [
    "d = {\"Name\": \"John\", \"Surname\": \"Smith\"}\n",
    "print(d[\"Surname\"])"
   ]
  },
  {
   "cell_type": "markdown",
   "id": "242e36f3",
   "metadata": {},
   "source": [
    "### Ex. 19. Dictionary"
   ]
  },
  {
   "cell_type": "code",
   "execution_count": 86,
   "id": "0189ff00",
   "metadata": {},
   "outputs": [
    {
     "name": "stdout",
     "output_type": "stream",
     "text": [
      "{'a': 1, 'b': 2, 'c': 3}\n"
     ]
    }
   ],
   "source": [
    "d = {\"a\": 1, \"b\": 2}\n",
    "d[\"c\"] = 3\n",
    "print(d)"
   ]
  },
  {
   "cell_type": "markdown",
   "id": "7141469b",
   "metadata": {},
   "source": [
    "### Ex. 20. Dictionary"
   ]
  },
  {
   "cell_type": "code",
   "execution_count": 96,
   "id": "873b53c8",
   "metadata": {},
   "outputs": [
    {
     "name": "stdout",
     "output_type": "stream",
     "text": [
      "6\n"
     ]
    }
   ],
   "source": [
    "d = {\"a\": 1, \"b\": 2, \"c\": 3}\n",
    "v = d.values()\n",
    "print(sum(v))\n"
   ]
  },
  {
   "cell_type": "markdown",
   "id": "bf985089",
   "metadata": {},
   "source": [
    "### Ex. 21. Dictionary Compreencion"
   ]
  },
  {
   "cell_type": "code",
   "execution_count": 101,
   "id": "14bc9be3",
   "metadata": {},
   "outputs": [
    {
     "name": "stdout",
     "output_type": "stream",
     "text": [
      "{'a': 1}\n"
     ]
    }
   ],
   "source": [
    "d = {\"a\": 1, \"b\": 2, \"c\": 3}\n",
    "\n",
    "print({k:v for (k,v) in d.items() if v <= 1})"
   ]
  },
  {
   "cell_type": "markdown",
   "id": "dfb3c2f6",
   "metadata": {},
   "source": [
    "### Ex. 22."
   ]
  },
  {
   "cell_type": "code",
   "execution_count": 108,
   "id": "f614b7e2",
   "metadata": {},
   "outputs": [
    {
     "name": "stdout",
     "output_type": "stream",
     "text": [
      "{'a': [1, 2, 3, 4, 5, 6, 7, 8, 9, 10],\n",
      " 'b': [11, 12, 13, 14, 15, 16, 17, 18, 19, 20],\n",
      " 'c': [21, 22, 23, 24, 25, 26, 27, 28, 29, 30]}\n"
     ]
    }
   ],
   "source": [
    "from pprint import pprint\n",
    "d = {\"a\": list(range(1, 11)), \"b\": list(range(11, 21)), \"c\": list(range(21, 31))}\n",
    "pprint(d)\n",
    "               "
   ]
  },
  {
   "cell_type": "markdown",
   "id": "9b8ef584",
   "metadata": {},
   "source": [
    "### Ex. 23. Multilevel Indexing. \n",
    "\\# Access the third value of key b  from the dictionary."
   ]
  },
  {
   "cell_type": "code",
   "execution_count": 113,
   "id": "ef84c4b7",
   "metadata": {},
   "outputs": [
    {
     "name": "stdout",
     "output_type": "stream",
     "text": [
      "13\n"
     ]
    }
   ],
   "source": [
    "d = {\"a\": list(range(1, 11)), \"b\": list(range(11, 21)), \"c\": list(range(21, 31))}\n",
    "print(d[\"b\"][2])"
   ]
  },
  {
   "cell_type": "markdown",
   "id": "13fd594a",
   "metadata": {},
   "source": [
    "### Ex. 24."
   ]
  },
  {
   "cell_type": "code",
   "execution_count": 119,
   "id": "680068ba",
   "metadata": {},
   "outputs": [
    {
     "name": "stdout",
     "output_type": "stream",
     "text": [
      "a  has value  [1, 2, 3, 4, 5, 6, 7, 8, 9, 10]\n",
      "b  has value  [11, 12, 13, 14, 15, 16, 17, 18, 19, 20]\n",
      "c  has value  [21, 22, 23, 24, 25, 26, 27, 28, 29, 30]\n"
     ]
    }
   ],
   "source": [
    "d = dict(a = list(range(1, 11)), b = list(range(11, 21)), c = list(range(21, 31)))\n",
    "for k, v in d.items():\n",
    "    print(k, \" has value \", v)"
   ]
  },
  {
   "cell_type": "markdown",
   "id": "6245b644",
   "metadata": {},
   "source": [
    "### Ex. 25."
   ]
  },
  {
   "cell_type": "code",
   "execution_count": 128,
   "id": "e76f25d4",
   "metadata": {},
   "outputs": [
    {
     "name": "stdout",
     "output_type": "stream",
     "text": [
      "['a', 'b', 'c', 'd', 'e', 'f', 'g', 'h', 'i', 'j', 'k', 'l', 'm', 'n', 'o', 'p', 'q', 'r', 's', 't', 'u', 'v', 'w', 'x', 'y', 'z']\n"
     ]
    }
   ],
   "source": [
    "import string\n",
    "print([x for x in string.ascii_lowercase])"
   ]
  },
  {
   "cell_type": "markdown",
   "id": "fef6eae2",
   "metadata": {},
   "source": [
    "### Ex. 26."
   ]
  },
  {
   "cell_type": "code",
   "execution_count": 129,
   "id": "c623ad26",
   "metadata": {},
   "outputs": [
    {
     "name": "stdout",
     "output_type": "stream",
     "text": [
      "1\n",
      "2\n",
      "3\n",
      "4\n",
      "5\n",
      "6\n",
      "7\n",
      "8\n",
      "9\n",
      "10\n"
     ]
    }
   ],
   "source": [
    "for i in range(1, 11):\n",
    "    print(i)"
   ]
  },
  {
   "cell_type": "markdown",
   "id": "9badd30e",
   "metadata": {},
   "source": [
    "### Ex. 27.\n",
    "Create a function that calculates acceleration given initial velocity v1, final velocity v2, start time t1, and end time t2."
   ]
  },
  {
   "cell_type": "code",
   "execution_count": 130,
   "id": "c8fbe3ea",
   "metadata": {},
   "outputs": [
    {
     "data": {
      "text/plain": [
       "0.5"
      ]
     },
     "execution_count": 130,
     "metadata": {},
     "output_type": "execute_result"
    }
   ],
   "source": [
    "def accel(v1, v2, t1, t2):\n",
    "    return (v2 - v1)/(t2 - t1)\n",
    "\n",
    "accel(0, 10, 0, 20)\n",
    "    "
   ]
  },
  {
   "cell_type": "markdown",
   "id": "c4eb24d1",
   "metadata": {},
   "source": [
    "### Ex. 28."
   ]
  },
  {
   "cell_type": "code",
   "execution_count": 132,
   "id": "d2d72785",
   "metadata": {},
   "outputs": [
    {
     "data": {
      "text/plain": [
       "'A'"
      ]
     },
     "execution_count": 132,
     "metadata": {},
     "output_type": "execute_result"
    }
   ],
   "source": [
    "s = \"a\"\n"
   ]
  },
  {
   "cell_type": "markdown",
   "id": "1b21a45f",
   "metadata": {},
   "source": [
    "### Ex. 29."
   ]
  },
  {
   "cell_type": "code",
   "execution_count": 134,
   "id": "f55200a6",
   "metadata": {},
   "outputs": [
    {
     "name": "stdout",
     "output_type": "stream",
     "text": [
      "4071.5040790523713\n"
     ]
    }
   ],
   "source": [
    "from math import pi\n",
    "\n",
    "def volume(h, r=10):\n",
    "    return (4 * pi * r**3 - pi * h**2 * (3 * r - h))/3\n",
    "\n",
    "print(volume(2))"
   ]
  },
  {
   "cell_type": "markdown",
   "id": "83cb6e8c",
   "metadata": {},
   "source": [
    "### Ex. 30."
   ]
  },
  {
   "cell_type": "code",
   "execution_count": 158,
   "id": "4472711e",
   "metadata": {},
   "outputs": [
    {
     "data": {
      "text/plain": [
       "2"
      ]
     },
     "execution_count": 158,
     "metadata": {},
     "output_type": "execute_result"
    }
   ],
   "source": [
    "len((\"teste 123\").split())"
   ]
  },
  {
   "cell_type": "markdown",
   "id": "a13dcac5",
   "metadata": {},
   "source": [
    "### Ex. 34.\n",
    "- [x] teste"
   ]
  },
  {
   "cell_type": "code",
   "execution_count": 148,
   "id": "e5c08003",
   "metadata": {},
   "outputs": [
    {
     "name": "stdout",
     "output_type": "stream",
     "text": [
      "1\n"
     ]
    }
   ],
   "source": [
    "    def foo(): \n",
    "        global c\n",
    "        c = 1 \n",
    "        return c \n",
    "    foo() \n",
    "    print(c)"
   ]
  },
  {
   "cell_type": "markdown",
   "id": "65d71f0c",
   "metadata": {},
   "source": [
    "### 35. Split a sentence"
   ]
  },
  {
   "cell_type": "code",
   "execution_count": 164,
   "id": "8dc33879",
   "metadata": {},
   "outputs": [
    {
     "name": "stdout",
     "output_type": "stream",
     "text": [
      "type a phrase: qwe qwe\n"
     ]
    },
    {
     "data": {
      "text/plain": [
       "2"
      ]
     },
     "execution_count": 164,
     "metadata": {},
     "output_type": "execute_result"
    }
   ],
   "source": [
    "my_phrase = input(\"type a phrase: \")\n",
    "\n",
    "def w_counter(my_phrase):\n",
    "   return len(my_phrase.split())\n",
    "\n",
    "w_counter(my_phrase)\n",
    "\n"
   ]
  },
  {
   "cell_type": "markdown",
   "id": "67295cda",
   "metadata": {},
   "source": [
    "### 36. Read a txt file and count words"
   ]
  },
  {
   "cell_type": "code",
   "execution_count": 172,
   "id": "d81b1413",
   "metadata": {},
   "outputs": [
    {
     "data": {
      "text/plain": [
       "10"
      ]
     },
     "execution_count": 172,
     "metadata": {},
     "output_type": "execute_result"
    }
   ],
   "source": [
    "def w_counter():    \n",
    "    with open(\"words1.txt\", \"r\") as file:\n",
    "        return len(file.read().split())\n",
    "\n",
    "w_counter()\n"
   ]
  },
  {
   "cell_type": "markdown",
   "id": "5f97b612",
   "metadata": {},
   "source": [
    "### 37."
   ]
  },
  {
   "cell_type": "code",
   "execution_count": 199,
   "id": "bc3dfc38",
   "metadata": {},
   "outputs": [
    {
     "name": "stdout",
     "output_type": "stream",
     "text": [
      "A tree is a woody perennial plant typically with branches.\n",
      "\n"
     ]
    },
    {
     "data": {
      "text/plain": [
       "10"
      ]
     },
     "execution_count": 199,
     "metadata": {},
     "output_type": "execute_result"
    }
   ],
   "source": [
    "l =[]\n",
    "def w_counter():    \n",
    "    with open(\"words2.txt\", \"r\") as file:\n",
    "        my_file = str(file.read()).replace(\",\", \" \")\n",
    "        print(my_file)\n",
    "        return len(my_file.split())\n",
    "\n",
    "w_counter()"
   ]
  },
  {
   "cell_type": "code",
   "execution_count": 202,
   "id": "5860b328",
   "metadata": {},
   "outputs": [
    {
     "name": "stdout",
     "output_type": "stream",
     "text": [
      "10\n"
     ]
    }
   ],
   "source": [
    "# solution 2 with \"re\" (regular expression matching operations)\n",
    "\n",
    "import re\n",
    "     \n",
    "def count_words_re(filepath):\n",
    "    with open(filepath, 'r') as file:\n",
    "        text = file.read()\n",
    "    string_list = re.split(\",| \", text)\n",
    "    return len(string_list)\n",
    "     \n",
    "print(count_words_re(\"words2.txt\"))"
   ]
  },
  {
   "cell_type": "markdown",
   "id": "5bb4eec0",
   "metadata": {},
   "source": [
    "### 38."
   ]
  },
  {
   "cell_type": "code",
   "execution_count": 204,
   "id": "87e497d4",
   "metadata": {},
   "outputs": [
    {
     "data": {
      "text/plain": [
       "3.0"
      ]
     },
     "execution_count": 204,
     "metadata": {},
     "output_type": "execute_result"
    }
   ],
   "source": [
    "import math\n",
    "\n",
    "math.sqrt(9)"
   ]
  },
  {
   "cell_type": "markdown",
   "id": "b3e6ea87",
   "metadata": {},
   "source": [
    "### 39."
   ]
  },
  {
   "cell_type": "code",
   "execution_count": 207,
   "id": "61327204",
   "metadata": {},
   "outputs": [
    {
     "name": "stdout",
     "output_type": "stream",
     "text": [
      "0.5403023058681398\n"
     ]
    }
   ],
   "source": [
    "import math\n",
    "print(math.cos(1))"
   ]
  },
  {
   "cell_type": "code",
   "execution_count": 208,
   "id": "e9d60111",
   "metadata": {},
   "outputs": [
    {
     "name": "stdout",
     "output_type": "stream",
     "text": [
      "Help on built-in function pow in module math:\n",
      "\n",
      "pow(x, y, /)\n",
      "    Return x**y (x to the power of y).\n",
      "\n"
     ]
    }
   ],
   "source": [
    "help(math.pow)"
   ]
  }
 ],
 "metadata": {
  "kernelspec": {
   "display_name": "Python 3",
   "language": "python",
   "name": "python3"
  },
  "language_info": {
   "codemirror_mode": {
    "name": "ipython",
    "version": 3
   },
   "file_extension": ".py",
   "mimetype": "text/x-python",
   "name": "python",
   "nbconvert_exporter": "python",
   "pygments_lexer": "ipython3",
   "version": "3.8.8"
  }
 },
 "nbformat": 4,
 "nbformat_minor": 5
}
